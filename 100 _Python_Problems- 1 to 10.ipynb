{
 "cells": [
  {
   "cell_type": "markdown",
   "id": "fc51b3f9",
   "metadata": {},
   "source": [
    "### 1. User will input (3ages).Find the oldest one"
   ]
  },
  {
   "cell_type": "code",
   "execution_count": 4,
   "id": "9937838d",
   "metadata": {},
   "outputs": [
    {
     "name": "stdout",
     "output_type": "stream",
     "text": [
      "Enter the three numbers including space11 14 82\n",
      "Mximum number is 82\n"
     ]
    }
   ],
   "source": [
    "#Accepting input from user\n",
    "a, b, c = (input(\"Enter the three numbers including space\").split())\n",
    "\n",
    "# Checking if a is greater number\n",
    "if float(a)>float(b) and float(a)>float(c) :\n",
    "    print(f\"Mximum number is {a}\")\n",
    "\n",
    "# Checking if b is greater number\n",
    "elif float(b)>float(a) and float(b)>float(c) :\n",
    "    print(f\"Mximum number is {b}\")\n",
    "    \n",
    "# Else displaying c is greater\n",
    "else:\n",
    "     print(f\"Mximum number is {c}\")"
   ]
  },
  {
   "cell_type": "markdown",
   "id": "796c11e5",
   "metadata": {},
   "source": [
    "### 2. Write a program that will convert celsius value to fahrenheit"
   ]
  },
  {
   "cell_type": "code",
   "execution_count": 6,
   "id": "20d03e5c",
   "metadata": {},
   "outputs": [
    {
     "name": "stdout",
     "output_type": "stream",
     "text": [
      "Enter tempreture in celsius 23\n",
      "The tempreture is 73.4°F\n"
     ]
    }
   ],
   "source": [
    "##Accepting input from user\n",
    "cel = float(input(\"Enter tempreture in celsius \"))\n",
    "\n",
    "# Formula to convert celsius value to fahrenheit\n",
    "far=(cel * 9/5) + 32\n",
    "\n",
    "print(f\"The tempreture is {far}°F\")"
   ]
  },
  {
   "cell_type": "markdown",
   "id": "692f2477",
   "metadata": {},
   "source": [
    "### 3.User will input (2numbers).Write a program to swap the numbers"
   ]
  },
  {
   "cell_type": "code",
   "execution_count": 8,
   "id": "9bbf5d48",
   "metadata": {},
   "outputs": [
    {
     "name": "stdout",
     "output_type": "stream",
     "text": [
      "Enter the first no. 12\n",
      "Enter the second no. 11\n",
      "a =  11.0\n",
      "b =  12.0\n"
     ]
    }
   ],
   "source": [
    "#Accepting input from user\n",
    "a = float(input(\"Enter the first no. \"))\n",
    "b = float(input(\"Enter the second no. \"))\n",
    "\n",
    "#swaping the numbers\n",
    "c=a\n",
    "a=b\n",
    "b=c\n",
    "\n",
    "#Displaying output\n",
    "print(\"a = \",a)\n",
    "print(\"b = \",b)\n"
   ]
  },
  {
   "cell_type": "markdown",
   "id": "9c5847dc",
   "metadata": {},
   "source": [
    "### 4.Write a program that will give you the sum of 3 digits"
   ]
  },
  {
   "cell_type": "code",
   "execution_count": 1,
   "id": "5bb0e9e4",
   "metadata": {},
   "outputs": [
    {
     "name": "stdout",
     "output_type": "stream",
     "text": [
      "Enter the first no. 12\n",
      "Enter the second no. 47\n",
      "Enter the third no. 58\n",
      "sum of three numbers is 117.0\n"
     ]
    }
   ],
   "source": [
    "#Accepting input from user\n",
    "a = float(input(\"Enter the first no. \"))\n",
    "b = float(input(\"Enter the second no. \"))\n",
    "c = float(input(\"Enter the third no. \"))\n",
    "\n",
    "# Adding three numbers\n",
    "total = a+b+c\n",
    "\n",
    "#Displaying total\n",
    "print(f\"sum of three numbers is {total}\")"
   ]
  },
  {
   "cell_type": "markdown",
   "id": "eae18cc5",
   "metadata": {},
   "source": [
    "### 5.Write a program that will tell whether the number entered by the user is odd or even."
   ]
  },
  {
   "cell_type": "code",
   "execution_count": 8,
   "id": "38bdb333",
   "metadata": {},
   "outputs": [
    {
     "name": "stdout",
     "output_type": "stream",
     "text": [
      "Enter the first no. 12\n",
      "No. 12.0 is even\n"
     ]
    }
   ],
   "source": [
    "#Accepting input from user\n",
    "a = float(input(\"Enter the first no. \"))\n",
    "\n",
    "#checking if no. is zero\n",
    "if a==0:\n",
    "    print(\"0 is not even also not odd\")\n",
    "    \n",
    "#checking if no.is even\n",
    "elif a%2 == 0 :\n",
    "    print(f\"No. {a} is even\")\n",
    "    \n",
    "#checking if no.is odd\n",
    "else:\n",
    "    print(f\"No. {a} is odd\")"
   ]
  },
  {
   "cell_type": "markdown",
   "id": "7358b0fd",
   "metadata": {},
   "source": [
    "### 6.Write a program that will tell whether the given year is a leap year or not.\n"
   ]
  },
  {
   "cell_type": "code",
   "execution_count": 9,
   "id": "63f698b7",
   "metadata": {},
   "outputs": [
    {
     "name": "stdout",
     "output_type": "stream",
     "text": [
      "Enter a year: 2024\n",
      "2024 is a leap year.\n"
     ]
    }
   ],
   "source": [
    "# Get the year from the user\n",
    "year = int(input(\"Enter a year: \"))\n",
    "\n",
    "# Check if the year is a leap year\n",
    "if year % 4 == 0 and (year % 100 != 0 or year % 400 == 0):\n",
    "    print(year, \"is a leap year.\")\n",
    "else:\n",
    "    print(year, \"is not a leap year.\")"
   ]
  },
  {
   "cell_type": "markdown",
   "id": "b6617914",
   "metadata": {},
   "source": [
    "### 7.Write a program to find the euclidean distance between two coordinates."
   ]
  },
  {
   "cell_type": "code",
   "execution_count": 10,
   "id": "70ed3451",
   "metadata": {},
   "outputs": [
    {
     "name": "stdout",
     "output_type": "stream",
     "text": [
      "Enter the x-coordinate of point P: 2\n",
      "Enter the y-coordinate of point P: 5\n",
      "Enter the x-coordinate of point Q: 14\n",
      "Enter the y-coordinate of point Q: 6\n",
      "The Euclidean distance between P and Q is: 12.041594578792296\n"
     ]
    }
   ],
   "source": [
    "import math\n",
    "\n",
    "# Get the coordinates of the first point (P)\n",
    "x1 = float(input(\"Enter the x-coordinate of point P: \"))\n",
    "y1 = float(input(\"Enter the y-coordinate of point P: \"))\n",
    "\n",
    "# Get the coordinates of the second point (Q)\n",
    "x2 = float(input(\"Enter the x-coordinate of point Q: \"))\n",
    "y2 = float(input(\"Enter the y-coordinate of point Q: \"))\n",
    "\n",
    "# Calculate the Euclidean distance\n",
    "distance = math.sqrt((x2 - x1) ** 2 + (y2 - y1) ** 2)\n",
    "\n",
    "print(\"The Euclidean distance between P and Q is:\", distance)\n"
   ]
  },
  {
   "cell_type": "markdown",
   "id": "c356decb",
   "metadata": {},
   "source": [
    "### 8.Write a program that take a user input of three angles and will find out whether it can form a triangle or not."
   ]
  },
  {
   "cell_type": "code",
   "execution_count": 15,
   "id": "6f0c4a8b",
   "metadata": {},
   "outputs": [
    {
     "name": "stdout",
     "output_type": "stream",
     "text": [
      "Enter the value of three angles including space between them 60 30 90\n",
      "These angles can form trangle.\n"
     ]
    }
   ],
   "source": [
    "#Get the value of three angles\n",
    "ang1,ang2,ang3 = input(\"Enter the value of three angles including space between them \").split()\n",
    "\n",
    "# Checking the angles are of trangle or not\n",
    "if float(ang1)+float(ang2)+float(ang3) == 180:\n",
    "    print(\"These angles can form trangle.\")\n",
    "    \n",
    "else :\n",
    "    print(\"These angles can not form trangle.\")"
   ]
  },
  {
   "cell_type": "markdown",
   "id": "3b84b7af",
   "metadata": {},
   "source": [
    "### 9.Write a program that will take user input of cost price and selling price and determines whether its a loss or a profit"
   ]
  },
  {
   "cell_type": "code",
   "execution_count": 19,
   "id": "877bfe9b",
   "metadata": {},
   "outputs": [
    {
     "name": "stdout",
     "output_type": "stream",
     "text": [
      "Enter the cost price of product 25\n",
      "Enter the selling price of product 95\n",
      "It's profit of 70.0\n"
     ]
    }
   ],
   "source": [
    "# Getting cost price\n",
    "cost =float(input(\"Enter the cost price of product \"))\n",
    "\n",
    "# Getting selling price\n",
    "sell = float(input(\"Enter the selling price of product \"))\n",
    "\n",
    "# Checking loss or profit\n",
    "if sell>cost:\n",
    "    profit = sell - cost\n",
    "    print(f\"It's profit of {profit}\")\n",
    "    \n",
    "else:\n",
    "    loss = cost - sell\n",
    "    print(f\"It's loss of {loss}\")"
   ]
  },
  {
   "cell_type": "markdown",
   "id": "76b71a16",
   "metadata": {},
   "source": [
    "### 10.Write a program to find the simple interest when the value of principle,rate of interest and time period is given.\n"
   ]
  },
  {
   "cell_type": "code",
   "execution_count": null,
   "id": "f11ad09f",
   "metadata": {},
   "outputs": [],
   "source": []
  }
 ],
 "metadata": {
  "kernelspec": {
   "display_name": "Python 3 (ipykernel)",
   "language": "python",
   "name": "python3"
  },
  "language_info": {
   "codemirror_mode": {
    "name": "ipython",
    "version": 3
   },
   "file_extension": ".py",
   "mimetype": "text/x-python",
   "name": "python",
   "nbconvert_exporter": "python",
   "pygments_lexer": "ipython3",
   "version": "3.10.9"
  }
 },
 "nbformat": 4,
 "nbformat_minor": 5
}
