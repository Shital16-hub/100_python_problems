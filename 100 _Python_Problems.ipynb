{
 "cells": [
  {
   "cell_type": "markdown",
   "id": "fc51b3f9",
   "metadata": {},
   "source": [
    "### 1. User will input (3ages).Find the oldest one"
   ]
  },
  {
   "cell_type": "code",
   "execution_count": 4,
   "id": "9937838d",
   "metadata": {},
   "outputs": [
    {
     "name": "stdout",
     "output_type": "stream",
     "text": [
      "Enter the three numbers including space11 14 82\n",
      "Mximum number is 82\n"
     ]
    }
   ],
   "source": [
    "#Accepting input from user\n",
    "a, b, c = (input(\"Enter the three numbers including space\").split())\n",
    "\n",
    "# Checking if a is greater number\n",
    "if float(a)>float(b) and float(a)>float(c) :\n",
    "    print(f\"Mximum number is {a}\")\n",
    "\n",
    "# Checking if b is greater number\n",
    "elif float(b)>float(a) and float(b)>float(c) :\n",
    "    print(f\"Mximum number is {b}\")\n",
    "    \n",
    "# Else displaying c is greater\n",
    "else:\n",
    "     print(f\"Mximum number is {c}\")"
   ]
  },
  {
   "cell_type": "markdown",
   "id": "796c11e5",
   "metadata": {},
   "source": [
    "### 2. Write a program that will convert celsius value to fahrenheit"
   ]
  },
  {
   "cell_type": "code",
   "execution_count": 6,
   "id": "20d03e5c",
   "metadata": {},
   "outputs": [
    {
     "name": "stdout",
     "output_type": "stream",
     "text": [
      "Enter tempreture in celsius 23\n",
      "The tempreture is 73.4°F\n"
     ]
    }
   ],
   "source": [
    "##Accepting input from user\n",
    "cel = float(input(\"Enter tempreture in celsius \"))\n",
    "\n",
    "# Formula to convert celsius value to fahrenheit\n",
    "far=(cel * 9/5) + 32\n",
    "\n",
    "print(f\"The tempreture is {far}°F\")"
   ]
  },
  {
   "cell_type": "markdown",
   "id": "692f2477",
   "metadata": {},
   "source": [
    "### 3.User will input (2numbers).Write a program to swap the numbers"
   ]
  },
  {
   "cell_type": "code",
   "execution_count": 8,
   "id": "9bbf5d48",
   "metadata": {},
   "outputs": [
    {
     "name": "stdout",
     "output_type": "stream",
     "text": [
      "Enter the first no. 12\n",
      "Enter the second no. 11\n",
      "a =  11.0\n",
      "b =  12.0\n"
     ]
    }
   ],
   "source": [
    "#Accepting input from user\n",
    "a = float(input(\"Enter the first no. \"))\n",
    "b = float(input(\"Enter the second no. \"))\n",
    "\n",
    "#swaping the numbers\n",
    "c=a\n",
    "a=b\n",
    "b=c\n",
    "\n",
    "#Displaying output\n",
    "print(\"a = \",a)\n",
    "print(\"b = \",b)\n"
   ]
  },
  {
   "cell_type": "markdown",
   "id": "9c5847dc",
   "metadata": {},
   "source": [
    "### 4.Write a program that will give you the sum of 3 digits"
   ]
  },
  {
   "cell_type": "code",
   "execution_count": null,
   "id": "5bb0e9e4",
   "metadata": {},
   "outputs": [],
   "source": []
  }
 ],
 "metadata": {
  "kernelspec": {
   "display_name": "Python 3 (ipykernel)",
   "language": "python",
   "name": "python3"
  },
  "language_info": {
   "codemirror_mode": {
    "name": "ipython",
    "version": 3
   },
   "file_extension": ".py",
   "mimetype": "text/x-python",
   "name": "python",
   "nbconvert_exporter": "python",
   "pygments_lexer": "ipython3",
   "version": "3.10.9"
  }
 },
 "nbformat": 4,
 "nbformat_minor": 5
}
